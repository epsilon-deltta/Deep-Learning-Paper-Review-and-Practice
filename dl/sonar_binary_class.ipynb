{
 "cells": [
  {
   "cell_type": "markdown",
   "metadata": {},
   "source": [
    "#### sonar # to check how error backprogation works well\n",
    "#### 세즈노프스키 ?professor (러시아 사람인가....이노무스키)\n",
    "#### sonar 로 광석 인지 그냥 돌멩인지 binary classification 하는거임 (~~돌맹이 by 한현우~~ 노래 좋음)"
   ]
  },
  {
   "cell_type": "code",
   "execution_count": 11,
   "metadata": {},
   "outputs": [],
   "source": [
    "from keras.models import Sequential\n",
    "from keras.layers.core import Dense\n",
    "from sklearn.preprocessing import LabelEncoder\n",
    "from sklearn.model_selection import train_test_split\n",
    "\n",
    "import pandas as pd\n",
    "import numpy\n",
    "import tensorflow as tf\n",
    "\n",
    "# seed 값 설정\n",
    "seed = 0\n",
    "numpy.random.seed(seed)\n",
    "tf.random.set_seed(3)\n",
    "\n",
    "df = pd.read_csv('../dataset/sonar.csv', header=None)\n",
    "\n",
    "dataset = df.values\n",
    "X = dataset[:,0:60]\n",
    "Y_obj = dataset[:,60]\n",
    "X = X.astype(numpy.float)"
   ]
  },
  {
   "cell_type": "code",
   "execution_count": 13,
   "metadata": {},
   "outputs": [],
   "source": [
    "e = LabelEncoder()\n",
    "e.fit(Y_obj)\n",
    "Y = e.transform(Y_obj)\n",
    "\n",
    "# 학습 셋과 테스트 셋의 구분\n",
    "X_train, X_test, Y_train, Y_test = train_test_split(X, Y, test_size=0.3, random_state=seed)"
   ]
  },
  {
   "cell_type": "code",
   "execution_count": 5,
   "metadata": {},
   "outputs": [],
   "source": [
    "model = Sequential()\n",
    "model.add(Dense(24,  input_dim=60, activation='relu'))\n",
    "model.add(Dense(10, activation='relu'))\n",
    "model.add(Dense(1, activation='sigmoid'))\n",
    "\n",
    "model.compile(loss='mean_squared_error',\n",
    "            optimizer='adam',\n",
    "            metrics=['accuracy'])"
   ]
  },
  {
   "cell_type": "code",
   "execution_count": 6,
   "metadata": {},
   "outputs": [
    {
     "data": {
      "text/plain": [
       "<tensorflow.python.keras.callbacks.History at 0x177b6432780>"
      ]
     },
     "execution_count": 6,
     "metadata": {},
     "output_type": "execute_result"
    }
   ],
   "source": [
    "model.fit(X_train, Y_train, epochs=130, batch_size=5,verbose=0)"
   ]
  },
  {
   "cell_type": "code",
   "execution_count": 7,
   "metadata": {},
   "outputs": [
    {
     "name": "stdout",
     "output_type": "stream",
     "text": [
      "2/2 [==============================] - 0s 2ms/step - loss: 0.1447 - accuracy: 0.8571\n",
      "\n",
      " Test Accuracy: 0.8571\n"
     ]
    }
   ],
   "source": [
    "# 테스트셋에 모델 적용\n",
    "print(\"\\n Test Accuracy: %.4f\" % (model.evaluate(X_test, Y_test)[1]))"
   ]
  },
  {
   "cell_type": "code",
   "execution_count": null,
   "metadata": {
    "collapsed": true,
    "jupyter": {
     "outputs_hidden": true
    }
   },
   "outputs": [],
   "source": [
    "from IPython.display import SVG\n",
    "from keras.utils.vis_utils import model_to_dot\n",
    "\n",
    "%matplotlib inline\n",
    "\n",
    "SVG(model_to_dot(model, show_shapes=True).create(prog='dot', format='svg'))"
   ]
  },
  {
   "cell_type": "code",
   "execution_count": 8,
   "metadata": {},
   "outputs": [
    {
     "data": {
      "text/plain": [
       "array([[1.70739591e-02],\n",
       "       [8.65076125e-01],\n",
       "       [4.18105721e-03],\n",
       "       [9.95711446e-01],\n",
       "       [1.48057938e-04],\n",
       "       [9.72791731e-01],\n",
       "       [8.70940089e-02],\n",
       "       [3.71856689e-02],\n",
       "       [9.99860048e-01],\n",
       "       [3.07304025e-01],\n",
       "       [8.35524559e-01],\n",
       "       [3.69459391e-04],\n",
       "       [9.22904730e-01],\n",
       "       [2.58490443e-03],\n",
       "       [9.74030256e-01],\n",
       "       [9.93887544e-01],\n",
       "       [7.89123774e-03],\n",
       "       [9.99467432e-01],\n",
       "       [9.91885900e-01],\n",
       "       [9.99792993e-01],\n",
       "       [2.85779357e-01],\n",
       "       [9.99855399e-01],\n",
       "       [4.12932038e-03],\n",
       "       [9.16475534e-01],\n",
       "       [7.66316295e-01],\n",
       "       [2.13990688e-01],\n",
       "       [3.52051973e-01],\n",
       "       [1.71541572e-02],\n",
       "       [4.73940372e-03],\n",
       "       [2.62204685e-05],\n",
       "       [9.96946692e-01],\n",
       "       [3.00809741e-03],\n",
       "       [3.36295366e-03],\n",
       "       [9.75190043e-01],\n",
       "       [2.28533168e-06],\n",
       "       [3.33577394e-04],\n",
       "       [2.47544050e-03],\n",
       "       [7.65434206e-02],\n",
       "       [1.32867992e-02],\n",
       "       [1.22746319e-01],\n",
       "       [7.12576509e-03],\n",
       "       [1.98288560e-02],\n",
       "       [7.19285011e-03],\n",
       "       [4.04377643e-05],\n",
       "       [9.24088240e-01],\n",
       "       [9.98757958e-01],\n",
       "       [2.45600939e-04],\n",
       "       [4.13981080e-03],\n",
       "       [9.98788118e-01],\n",
       "       [1.93259120e-02],\n",
       "       [1.58163875e-01],\n",
       "       [9.84198093e-01],\n",
       "       [1.19706005e-04],\n",
       "       [1.22889876e-03],\n",
       "       [1.70541704e-02],\n",
       "       [9.88386989e-01],\n",
       "       [1.61908373e-01],\n",
       "       [1.43252730e-01],\n",
       "       [2.75540981e-03],\n",
       "       [1.87825095e-02],\n",
       "       [8.87507107e-03],\n",
       "       [2.23400533e-01],\n",
       "       [9.96824026e-01]], dtype=float32)"
      ]
     },
     "execution_count": 8,
     "metadata": {},
     "output_type": "execute_result"
    }
   ],
   "source": [
    "model.predict(X_test)"
   ]
  }
 ],
 "metadata": {
  "kernelspec": {
   "display_name": "Python 3",
   "language": "python",
   "name": "python3"
  },
  "language_info": {
   "codemirror_mode": {
    "name": "ipython",
    "version": 3
   },
   "file_extension": ".py",
   "mimetype": "text/x-python",
   "name": "python",
   "nbconvert_exporter": "python",
   "pygments_lexer": "ipython3",
   "version": "3.6.12"
  }
 },
 "nbformat": 4,
 "nbformat_minor": 4
}
