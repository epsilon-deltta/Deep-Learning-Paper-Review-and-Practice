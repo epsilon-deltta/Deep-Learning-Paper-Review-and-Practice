{
 "cells": [
  {
   "cell_type": "markdown",
   "metadata": {},
   "source": [
    "#### sonar # to check how error backprogation works well\n",
    "#### 세즈노프스키 ?professor (러시아 사람인가....이노무스키)\n",
    "#### sonar 로 광석 인지 그냥 돌멩인지 binary classification 하는거임 (~~돌맹이 by 한현우~~ 노래 좋음)"
   ]
  },
  {
   "cell_type": "code",
   "execution_count": 36,
   "metadata": {},
   "outputs": [],
   "source": [
    "import  matplotlib.pyplot as plt\n",
    "\n",
    "from keras.models import Sequential\n",
    "from keras.layers.core import Dense\n",
    "from sklearn.preprocessing import LabelEncoder\n",
    "from sklearn.model_selection import train_test_split\n",
    "\n",
    "import pandas as pd\n",
    "import numpy\n",
    "import tensorflow as tf"
   ]
  },
  {
   "cell_type": "markdown",
   "metadata": {},
   "source": [
    "### data preprocessing"
   ]
  },
  {
   "cell_type": "code",
   "execution_count": 36,
   "metadata": {},
   "outputs": [],
   "source": [
    "# seed 값 설정\n",
    "seed = 0\n",
    "numpy.random.seed(seed)\n",
    "tf.random.set_seed(3)\n",
    "\n",
    "df = pd.read_csv('../dataset/sonar.csv', header=None)\n",
    "\n",
    "dataset = df.values\n",
    "X = dataset[:,0:60]\n",
    "Y_obj = dataset[:,60]\n",
    "X = X.astype(numpy.float)\n",
    "\n",
    "e = LabelEncoder()\n",
    "e.fit(Y_obj)\n",
    "Y = e.transform(Y_obj)"
   ]
  },
  {
   "cell_type": "code",
   "execution_count": 36,
   "metadata": {},
   "outputs": [],
   "source": [
    "# 학습 셋과 테스트 셋의 구분\n",
    "X_train, X_test, Y_train, Y_test = train_test_split(X, Y, test_size=0.3, random_state=seed)"
   ]
  },
  {
   "cell_type": "code",
   "execution_count": 97,
   "metadata": {},
   "outputs": [
    {
     "name": "stdout",
     "output_type": "stream",
     "text": [
      "The tensorboard extension is already loaded. To reload it, use:\n",
      "  %reload_ext tensorboard\n"
     ]
    }
   ],
   "source": [
    "%load_ext tensorboard"
   ]
  },
  {
   "cell_type": "code",
   "execution_count": 93,
   "metadata": {},
   "outputs": [
    {
     "name": "stdout",
     "output_type": "stream",
     "text": [
      "The tensorboard extension is already loaded. To reload it, use:\n",
      "  %reload_ext tensorboard\n"
     ]
    }
   ],
   "source": [
    "from keras.callbacks import TensorBoard\n",
    "import datetime\n",
    "\n",
    "log_dir = \"logs/fit/\" + datetime.datetime.now().strftime(\"%Y%m%d-%H%M%S\")\n",
    "tensorboard_callback = TensorBoard(log_dir=log_dir, histogram_freq=1)"
   ]
  },
  {
   "cell_type": "code",
   "execution_count": 94,
   "metadata": {},
   "outputs": [
    {
     "name": "stdout",
     "output_type": "stream",
     "text": [
      "2/2 [==============================] - 0s 1ms/step - loss: 0.1642 - accuracy: 0.7937\n",
      "\n",
      " Test Accuracy: 0.7937\n"
     ]
    }
   ],
   "source": [
    "model = Sequential()\n",
    "model.add(Dense(24,  input_dim=60, activation='relu'))\n",
    "model.add(Dense(10, activation='relu'))\n",
    "model.add(Dense(1, activation='sigmoid'))\n",
    "\n",
    "model.compile(loss='mean_squared_error',\n",
    "            optimizer='adam',\n",
    "            metrics=['accuracy'])\n",
    "\n",
    "model.fit(X_train, Y_train, epochs=130,validation_data=(X_test, Y_test)\n",
    "          , batch_size=5,verbose=0,callbacks=[tensorboard_callback])\n",
    "\n",
    "# 테스트셋에 모델 적용\n",
    "print(\"\\n Test Accuracy: %.4f\" % (model.evaluate(X_test, Y_test)[1]))"
   ]
  },
  {
   "cell_type": "code",
   "execution_count": 107,
   "metadata": {},
   "outputs": [],
   "source": [
    "model.save('test.h5')"
   ]
  },
  {
   "cell_type": "code",
   "execution_count": 101,
   "metadata": {
    "collapsed": true,
    "jupyter": {
     "outputs_hidden": true
    }
   },
   "outputs": [
    {
     "data": {
      "text/plain": [
       "ERROR: Failed to launch TensorBoard (exited with 1).\n",
       "Contents of stderr:\n",
       "2021-01-25 04:18:13.696903: W tensorflow/stream_executor/platform/default/dso_loader.cc:55] Could not load dynamic library 'cudart64_101.dll'; dlerror: cudart64_101.dll not found\n",
       "2021-01-25 04:18:13.697003: I tensorflow/stream_executor/cuda/cudart_stub.cc:29] Ignore above cudart dlerror if you do not have a GPU set up on your machine.\n",
       "Traceback (most recent call last):\n",
       "  File \"c:\\users\\epsilon\\dev\\anaconda\\envs\\fortf\\lib\\runpy.py\", line 193, in _run_module_as_main\n",
       "    \"__main__\", mod_spec)\n",
       "  File \"c:\\users\\epsilon\\dev\\anaconda\\envs\\fortf\\lib\\runpy.py\", line 85, in _run_code\n",
       "    exec(code, run_globals)\n",
       "  File \"C:\\Users\\epsilon\\dev\\Anaconda\\envs\\fortf\\Scripts\\tensorboard.exe\\__main__.py\", line 7, in <module>\n",
       "  File \"c:\\users\\epsilon\\dev\\anaconda\\envs\\fortf\\lib\\site-packages\\tensorboard\\main.py\", line 75, in run_main\n",
       "    app.run(tensorboard.main, flags_parser=tensorboard.configure)\n",
       "  File \"c:\\users\\epsilon\\dev\\anaconda\\envs\\fortf\\lib\\site-packages\\absl\\app.py\", line 303, in run\n",
       "    _run_main(main, args)\n",
       "  File \"c:\\users\\epsilon\\dev\\anaconda\\envs\\fortf\\lib\\site-packages\\absl\\app.py\", line 251, in _run_main\n",
       "    sys.exit(main(argv))\n",
       "  File \"c:\\users\\epsilon\\dev\\anaconda\\envs\\fortf\\lib\\site-packages\\tensorboard\\program.py\", line 289, in main\n",
       "    return runner(self.flags) or 0\n",
       "  File \"c:\\users\\epsilon\\dev\\anaconda\\envs\\fortf\\lib\\site-packages\\tensorboard\\program.py\", line 305, in _run_serve_subcommand\n",
       "    server = self._make_server()\n",
       "  File \"c:\\users\\epsilon\\dev\\anaconda\\envs\\fortf\\lib\\site-packages\\tensorboard\\program.py\", line 411, in _make_server\n",
       "    return self.server_class(app, self.flags)\n",
       "  File \"c:\\users\\epsilon\\dev\\anaconda\\envs\\fortf\\lib\\site-packages\\tensorboard\\program.py\", line 567, in init\n",
       "    return cls(wsgi_app=wsgi_app, flags=subflags)\n",
       "  File \"c:\\users\\epsilon\\dev\\anaconda\\envs\\fortf\\lib\\site-packages\\tensorboard\\program.py\", line 604, in __init__\n",
       "    super(WerkzeugServer, self).__init__(host, port, wsgi_app)\n",
       "  File \"c:\\users\\epsilon\\dev\\anaconda\\envs\\fortf\\lib\\site-packages\\werkzeug\\serving.py\", line 701, in __init__\n",
       "    HTTPServer.__init__(self, server_address, handler)\n",
       "  File \"c:\\users\\epsilon\\dev\\anaconda\\envs\\fortf\\lib\\socketserver.py\", line 456, in __init__\n",
       "    self.server_bind()\n",
       "  File \"c:\\users\\epsilon\\dev\\anaconda\\envs\\fortf\\lib\\site-packages\\tensorboard\\program.py\", line 713, in server_bind\n",
       "    super(WerkzeugServer, self).server_bind()\n",
       "  File \"c:\\users\\epsilon\\dev\\anaconda\\envs\\fortf\\lib\\http\\server.py\", line 136, in server_bind\n",
       "    socketserver.TCPServer.server_bind(self)\n",
       "  File \"c:\\users\\epsilon\\dev\\anaconda\\envs\\fortf\\lib\\socketserver.py\", line 470, in server_bind\n",
       "    self.socket.bind(self.server_address)\n",
       "socket.gaierror: [Errno 11001] getaddrinfo failed"
      ]
     },
     "metadata": {},
     "output_type": "display_data"
    }
   ],
   "source": [
    "%tensorboard --logdir logs/fit --host=localhsot"
   ]
  },
  {
   "cell_type": "code",
   "execution_count": 86,
   "metadata": {},
   "outputs": [
    {
     "name": "stdout",
     "output_type": "stream",
     "text": [
      "Requirement already satisfied: pydot in c:\\users\\epsilon\\dev\\anaconda\\envs\\fortf\\lib\\site-packages (1.4.1)\n",
      "Requirement already satisfied: graphviz in c:\\users\\epsilon\\dev\\anaconda\\envs\\fortf\\lib\\site-packages (0.16)\n",
      "Requirement already satisfied: pyparsing>=2.1.4 in c:\\users\\epsilon\\dev\\anaconda\\envs\\fortf\\lib\\site-packages (from pydot) (2.4.7)\n"
     ]
    }
   ],
   "source": [
    "!pip install pydot graphviz"
   ]
  },
  {
   "cell_type": "code",
   "execution_count": 88,
   "metadata": {},
   "outputs": [
    {
     "name": "stdout",
     "output_type": "stream",
     "text": [
      "Failed to import pydot. You must install pydot and graphviz for `pydotprint` to work.\n"
     ]
    },
    {
     "data": {
      "text/plain": [
       "<IPython.core.display.SVG object>"
      ]
     },
     "execution_count": 88,
     "metadata": {},
     "output_type": "execute_result"
    }
   ],
   "source": [
    "from IPython.display import SVG\n",
    "from keras.utils.vis_utils import model_to_dot\n",
    "\n",
    "%matplotlib inline\n",
    "\n",
    "SVG(model_to_dot(model, show_shapes=True)) # .create(prog='dot', format='svg')"
   ]
  },
  {
   "cell_type": "code",
   "execution_count": 83,
   "metadata": {},
   "outputs": [
    {
     "data": {
      "text/plain": [
       "<tensorflow.python.keras.callbacks.History at 0x177bfdcddd8>"
      ]
     },
     "execution_count": 83,
     "metadata": {},
     "output_type": "execute_result"
    }
   ],
   "source": [
    "model = Sequential()\n",
    "model.add(Dense(24,  input_dim=60, activation='relu'))\n",
    "model.add(Dense(10, activation='relu'))\n",
    "model.add(Dense(1, activation='sigmoid'))\n",
    "\n",
    "model.compile(loss='mean_squared_error',\n",
    "            optimizer='adam',\n",
    "            metrics=['accuracy'])\n",
    "\n",
    "model.fit(X_train, Y_train, epochs=130, batch_size=5,verbose=0)"
   ]
  },
  {
   "cell_type": "code",
   "execution_count": 5,
   "metadata": {},
   "outputs": [],
   "source": [
    "# 테스트셋에 모델 적용\n",
    "print(\"\\n Test Accuracy: %.4f\" % (model.evaluate(X_test, Y_test)[1]))"
   ]
  }
 ],
 "metadata": {
  "kernelspec": {
   "display_name": "Python 3",
   "language": "python",
   "name": "python3"
  },
  "language_info": {
   "codemirror_mode": {
    "name": "ipython",
    "version": 3
   },
   "file_extension": ".py",
   "mimetype": "text/x-python",
   "name": "python",
   "nbconvert_exporter": "python",
   "pygments_lexer": "ipython3",
   "version": "3.6.12"
  }
 },
 "nbformat": 4,
 "nbformat_minor": 4
}
