{
 "cells": [
  {
   "cell_type": "code",
   "execution_count": null,
   "metadata": {},
   "outputs": [],
   "source": [
    "import pandas as pd\n",
    "import numpy as np\n",
    "import seaborn as sns\n",
    "import matplotlib.pyplot as plt\n",
    "import itertools\n",
    "import time\n",
    "import statsmodels.api as sm\n",
    "from sklearn import linear_model\n",
    "from tqdm import tnrange, tqdm_notebook\n",
    "from sklearn.metrics import mean_squared_error\n",
    "from statsmodels.regression.quantile_regression import QuantReg\n",
    "\n",
    "from sklearn.preprocessing import StandardScaler\n",
    "\n",
    "import os\n",
    "\n",
    "from sklearn.model_selection import train_test_split"
   ]
  },
  {
   "cell_type": "code",
   "execution_count": null,
   "metadata": {},
   "outputs": [],
   "source": [
    "# train data 와 test data로 구분(7:3 비율) X,y : DataFrame\n",
    "from sklearn.model_selection import train_test_split\n",
    "X_train, X_test, y_train, y_test = train_test_split(X, y, test_size=0.3, random_state=10) "
   ]
  },
  {
   "cell_type": "code",
   "execution_count": null,
   "metadata": {},
   "outputs": [],
   "source": [
    "from sklearn.linear_model import LinearRegression\n",
    "lr0 = LinearRegression()\n",
    "lr0.fit(x_train,y_train)\n",
    "# lr0.coef_ , lr0.intercept_\n",
    "sco = lr0.score(x_test,y_test)\n",
    "lr0.predict(x_test)"
   ]
  },
  {
   "cell_type": "code",
   "execution_count": null,
   "metadata": {},
   "outputs": [],
   "source": [
    "from time import time as tt\n",
    "iterate_n = 10\n",
    "first = tt()\n",
    "for x in range(iterate_n) :\n",
    "#     train_err[train_err['user_id'].isin(strange_user_id)]\n",
    "duration = tt() -first\n",
    "print(\"duration : \" ,duration)"
   ]
  },
  {
   "cell_type": "code",
   "execution_count": null,
   "metadata": {},
   "outputs": [],
   "source": []
  },
  {
   "cell_type": "code",
   "execution_count": null,
   "metadata": {},
   "outputs": [],
   "source": [
    "from googleapiclient.discovery import build\n",
    "import json\n",
    "my_api_key = \"api key\"\n",
    "my_cse_id = \"custom search engine id\"  \n",
    "def google_search(search_term, api_key, cse_id, **kwargs):\n",
    "    service = build(\"customsearch\", \"v1\", developerKey=api_key)\n",
    "    res = service.cse().list(q=search_term, cx=cse_id, **kwargs).execute()\n",
    "    return res\n",
    "//구글로 검색하기\n",
    "search_result = google_search(\"Python Google Custom Search\", my_api_key, my_cse_id)"
   ]
  },
  {
   "cell_type": "code",
   "execution_count": null,
   "metadata": {},
   "outputs": [],
   "source": [
    "with open('search_result_all.json', 'w', encoding='utf-8') as f:\n",
    "    json.dump(search_result, f, ensure_ascii=False, indent=4)"
   ]
  },
  {
   "cell_type": "code",
   "execution_count": null,
   "metadata": {},
   "outputs": [],
   "source": [
    "from sklearn import preprocessing\n",
    "X = preprocessing.StandardScaler().fit(X).transform(X)\n"
   ]
  },
  {
   "cell_type": "code",
   "execution_count": null,
   "metadata": {},
   "outputs": [],
   "source": [
    "# 원핫인코딩(더미 변수)\n",
    "from sklearn import preprocessing    \n",
    "\n",
    "label_encoder = preprocessing.LabelEncoder()     # label encoder 생성\n",
    "onehot_encoder = preprocessing.OneHotEncoder()   # one hot encoder 생성\n",
    "\n",
    "onehot_location = label_encoder.fit_transform(df['지역'])\n",
    "onehot_code = label_encoder.fit_transform(df['코드'])\n",
    "onehot_type = label_encoder.fit_transform(df['유형'])\n",
    "onehot_day = label_encoder.fit_transform(df['주야'])"
   ]
  },
  {
   "cell_type": "code",
   "execution_count": null,
   "metadata": {},
   "outputs": [],
   "source": [
    "\n",
    "from sklearn.model_selection import train_test_split as tts\n",
    "xtr , xte,ytr,yte = tts(x,y,random_state=10,test_size=0.3)\n",
    "\n",
    "from sklearn.tree import DecisionTreeClassifier as dtc\n",
    "dtcr =dtc(criterion='entropy', max_depth=5)\n",
    "dtcr.fit(xtr,ytr)\n",
    "\n",
    "from sklearn import metrics \n",
    "tree_matrix = metrics.confusion_matrix(y_test, y_hat)  \n",
    "print(tree_matrix)\n",
    "print('\\n')\n",
    "\n",
    "# 모형 성능 평가 - 평가지표 계산\n",
    "tree_report = metrics.classification_report(y_test, y_hat)            \n",
    "print(tree_report)"
   ]
  },
  {
   "cell_type": "code",
   "execution_count": null,
   "metadata": {},
   "outputs": [],
   "source": [
    "from sklearn.model_selection import KFold\n",
    "k_fold = KFold(n_splits=5, shuffle=True, random_state=42)\n",
    "scores=[]\n",
    "\n",
    "for train_idx, val_idx in k_fold.split(X):\n",
    "#     print(train_idx,\" : \",val_idx)\n",
    "\n",
    "    # split train, validation set\n",
    "    xtr = X.iloc[train_idx]\n",
    "    ytr = y.iloc[train_idx]\n",
    "    xte = X.iloc[val_idx]\n",
    "    yte = y.iloc[val_idx]\n",
    "    lr = lrg()\n",
    "    lr.fit(xtr,ytr)\n",
    "    score = lr.score(xte,yte)\n",
    "    scores.append(score)"
   ]
  },
  {
   "cell_type": "code",
   "execution_count": null,
   "metadata": {},
   "outputs": [],
   "source": [
    "from sklearn.decomposition import PCA\n",
    "comp_n = 2\n",
    "pca = PCA(n_components=comp_n) # 주성분을 몇개로 할지 결정\n",
    "cols = []\n",
    "for x in range(comp_n):\n",
    "    cols.append('comp_%d'%x)\n",
    "printcipalComponents = pca.fit_transform(X)\n",
    "principalDf = pd.DataFrame(data=printcipalComponents, columns = cols)"
   ]
  },
  {
   "cell_type": "code",
   "execution_count": null,
   "metadata": {},
   "outputs": [],
   "source": [
    "import folium\n",
    "colors = {-1:'gray', 0:'coral', 1:'blue', 2:'green', 3:'red', 4:'purple', \n",
    "          5:'orange', 6:'brown', 7:'brick', 8:'yellow', 9:'magenta', 10:'cyan',11:'pink'}\n",
    "\n",
    "df = itaca\n",
    "cluster2_map = folium.Map(location=[37.55,126.98], tiles='Stamen Terrain', \n",
    "                        zoom_start=12)\n",
    "\n",
    "for name, lat, lng in zip(df.상호명, df.위도, df.경도):  \n",
    "    folium.CircleMarker([lat, lng],\n",
    "                        radius=5,                   # 원의 반지름\n",
    "                        color=colors[1],         # 원의 둘레 색상\n",
    "                        fill=True,\n",
    "                        fill_color=colors[1],    # 원을 채우는 색\n",
    "                        fill_opacity=0.7,           # 투명도    \n",
    "                        popup=name\n",
    "    ).add_to(cluster2_map)\n",
    "cluster2_map"
   ]
  }
 ],
 "metadata": {
  "kernelspec": {
   "display_name": "Python 3",
   "language": "python",
   "name": "python3"
  },
  "language_info": {
   "codemirror_mode": {
    "name": "ipython",
    "version": 3
   },
   "file_extension": ".py",
   "mimetype": "text/x-python",
   "name": "python",
   "nbconvert_exporter": "python",
   "pygments_lexer": "ipython3",
   "version": "3.6.12"
  }
 },
 "nbformat": 4,
 "nbformat_minor": 4
}
